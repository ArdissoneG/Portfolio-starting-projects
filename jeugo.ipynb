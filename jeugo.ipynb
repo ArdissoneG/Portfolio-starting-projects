{
 "cells": [
  {
   "cell_type": "code",
   "execution_count": 1,
   "id": "a039671d-c7f7-4e7a-857f-1aa31a92fa14",
   "metadata": {},
   "outputs": [],
   "source": [
    "import random"
   ]
  },
  {
   "cell_type": "code",
   "execution_count": 5,
   "id": "de140297-9d7b-44e6-a0c5-2e0a62037dcf",
   "metadata": {},
   "outputs": [
    {
     "name": "stdout",
     "output_type": "stream",
     "text": [
      "4\n"
     ]
    }
   ],
   "source": [
    "def roll():\n",
    "    min_value = 1\n",
    "    max_value = 6\n",
    "    roll = random.randint(min_value, max_value)\n",
    "\n",
    "    return roll\n",
    "\n",
    "value = roll ()\n",
    "print (value)"
   ]
  },
  {
   "cell_type": "code",
   "execution_count": 13,
   "id": "223bdb85-34c8-46ac-91c9-b9495731fbdf",
   "metadata": {},
   "outputs": [
    {
     "name": "stdin",
     "output_type": "stream",
     "text": [
      "ingrese el numero de jugadores (2-4):  1\n"
     ]
    },
    {
     "name": "stdout",
     "output_type": "stream",
     "text": [
      "número inválido\n"
     ]
    },
    {
     "name": "stdin",
     "output_type": "stream",
     "text": [
      "ingrese el numero de jugadores (2-4):  5\n"
     ]
    },
    {
     "name": "stdout",
     "output_type": "stream",
     "text": [
      "número inválido\n"
     ]
    },
    {
     "name": "stdin",
     "output_type": "stream",
     "text": [
      "ingrese el numero de jugadores (2-4):  j\n"
     ]
    },
    {
     "name": "stdout",
     "output_type": "stream",
     "text": [
      "valor no válido\n"
     ]
    },
    {
     "name": "stdin",
     "output_type": "stream",
     "text": [
      "ingrese el numero de jugadores (2-4):  3\n"
     ]
    },
    {
     "name": "stdout",
     "output_type": "stream",
     "text": [
      "3\n"
     ]
    }
   ],
   "source": [
    "while True:\n",
    "    players = input(\"ingrese el numero de jugadores (2-4): \")\n",
    "    if players.isdigit():\n",
    "        players = int(players)\n",
    "        if 2 <= players <= 4:\n",
    "            break\n",
    "        else:\n",
    "            print (\"número inválido\")\n",
    "    else:\n",
    "        print (\"valor no válido\")\n",
    "\n",
    "print(players)\n",
    "\n",
    "max_score = 50\n",
    "player_scores = [0 for _ in range(players)]\n",
    "\n",
    "while max(player_scores) < max_score:\n",
    "\n",
    "    for player_idx in range(players):\n",
    "        print(\"jugador\",player_idx + 1, \"tu turno empezó\")\n",
    "        current_score = 0\n",
    "\n",
    "        while True:\n",
    "            should_roll = input(\"quisieras tirar el dado (y)?\")\n",
    "            if should_roll.lower() != \"y\":\n",
    "                break\n",
    "                \n",
    "            value = roll()\n",
    "            if value == 1:\n",
    "                print(\"sacaste 1, se acabo el turno\")\n",
    "                current_score = 0\n",
    "                break\n",
    "            else:\n",
    "                print(\"sacaste:\", value)\n",
    "            \n",
    "            print (\"tu puntaje es:\", current_score) \n",
    "            \n",
    "        players_scores[player_idx] += current_score\n",
    "        print(\"tu puntaje total es:\" player_scores[player_idx])"
   ]
  },
  {
   "cell_type": "code",
   "execution_count": 15,
   "id": "71dc26ec-3715-45d4-afc5-5dbf7fa6c4ad",
   "metadata": {},
   "outputs": [],
   "source": []
  },
  {
   "cell_type": "code",
   "execution_count": null,
   "id": "206b3fe7-a941-4e4c-883e-11f78c984ee8",
   "metadata": {},
   "outputs": [],
   "source": []
  }
 ],
 "metadata": {
  "kernelspec": {
   "display_name": "Python [conda env:base] *",
   "language": "python",
   "name": "conda-base-py"
  },
  "language_info": {
   "codemirror_mode": {
    "name": "ipython",
    "version": 3
   },
   "file_extension": ".py",
   "mimetype": "text/x-python",
   "name": "python",
   "nbconvert_exporter": "python",
   "pygments_lexer": "ipython3",
   "version": "3.12.7"
  }
 },
 "nbformat": 4,
 "nbformat_minor": 5
}
