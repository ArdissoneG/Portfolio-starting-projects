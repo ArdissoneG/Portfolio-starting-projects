import random


def roll():
    min_value = 1
    max_value = 6
    roll = random.randint(min_value, max_value)

    return roll

value = roll ()
print (value)


while True:
    players = input("ingrese el numero de jugadores (2-4): ")
    if players.isdigit():
        players = int(players)
        if 2 <= players <= 4:
            break
        else:
            print ("número inválido")
    else:
        print ("valor no válido")

print(players)



max_score = 50
player_scores = [0 for _ in range(players)]



