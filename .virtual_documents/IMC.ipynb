


weight = int(input("ingrese su peso en kg: "))

height = float(input("ingrese su altura en m: "))

IMC = (weight/height**2)

print(IMC)
if IMC > 0:
    if IMC < 18.5:
        print("Peso bajo")
    elif IMC < 24.9:
        print("peso normal")
    elif IMC <29.9:
        print ("sobrepeso")
    elif IMC < 34.9:
        print("obesidad")
    elif IMC < 39.9:
        print("obesidad severa")
    else:
        print("obesidad morbida")






Por debajo de 18.5	Bajo peso
18.5 – 24.9	Normal
25.0 – 29.9	Sobrepeso
30.0 o más	Obesidad


if IMC > 0:
    if IMC < 18.5:
        print("Peso bajo")
    elif IMC < 24.9:
        print("peso normal")
    elif IMC <29.9:
        print ("sobrepeso")
    elif IMC < 34.9:
        print("obesidad")
    elif IMC < 39.9:
        print("obesidad severa")
    else:
        print("obesidad morbida")
















